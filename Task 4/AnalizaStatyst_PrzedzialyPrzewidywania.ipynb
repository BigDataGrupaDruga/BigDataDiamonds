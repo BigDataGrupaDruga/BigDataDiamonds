{
 "cells": [
  {
   "cell_type": "code",
   "execution_count": 1,
   "id": "9fc12daf-916a-4cdf-b24c-45cf88eca38c",
   "metadata": {},
   "outputs": [],
   "source": [
    "#Przedział przewidywania ceny dla liczby 2.5 karatów na podstawie Regresji Liniowej wykonanej w osobnym pliku.\n",
    "\n",
    "import pandas as pd\n",
    "\n",
    "#Wczytanie danych (kolumny carat i price)\n",
    "df = pd.read_csv('https://raw.githubusercontent.com/BigDataGrupaDruga/BigDataDiamonds/refs/heads/main/Task%202/DataWithValues/DanezWartosciami.csv', delimiter=',')[['carat', 'price']]"
   ]
  },
  {
   "cell_type": "code",
   "execution_count": 3,
   "id": "5a69232f-532d-42e9-96e2-3ae88af1aa5d",
   "metadata": {},
   "outputs": [],
   "source": [
    "#Przekształcenie danych w listę dla ułatwienia dalszych obliczeń\n",
    "punkty = list(df.itertuples(index=False))"
   ]
  },
  {
   "cell_type": "code",
   "execution_count": 7,
   "id": "49e571ca-8580-4ea7-9d50-c95f18bc5493",
   "metadata": {},
   "outputs": [
    {
     "name": "stdout",
     "output_type": "stream",
     "text": [
      "44393\n"
     ]
    }
   ],
   "source": [
    "# Ilość próbki, na której pracujemy\n",
    "n = len(punkty)\n",
    "print(n)"
   ]
  },
  {
   "cell_type": "code",
   "execution_count": 9,
   "id": "b406c85f-56eb-4981-a9e8-1867031a90e3",
   "metadata": {},
   "outputs": [
    {
     "name": "stdout",
     "output_type": "stream",
     "text": [
      "Średnia ilość karatów: 0.8110663843398733\n",
      "Odchylenie standardowe ilości karatów: 0.4878348187214102\n"
     ]
    }
   ],
   "source": [
    "# Obliczanie średniej i odchylenia standardowego dla kolumny z ilością karatów - \"carat\"\n",
    "srednia_carat = df['carat'].mean()\n",
    "odchylenie_carat = df['carat'].std()\n",
    "print('Średnia ilość karatów: {}'.format(srednia_carat))\n",
    "print('Odchylenie standardowe ilości karatów: {}'.format(odchylenie_carat))"
   ]
  },
  {
   "cell_type": "code",
   "execution_count": 11,
   "id": "5da4d304-f7de-459d-a8db-239be4fd1a24",
   "metadata": {},
   "outputs": [
    {
     "name": "stdout",
     "output_type": "stream",
     "text": [
      "1.6134832552669987\n"
     ]
    }
   ],
   "source": [
    "# Wartość statystyczna mówiąca dla jakiej wartości x znajduje się 95% ilości karatów \n",
    "from scipy.stats import norm\n",
    "\n",
    "x = norm.ppf(.950, srednia_carat, odchylenie_carat)\n",
    "\n",
    "print(x)"
   ]
  },
  {
   "cell_type": "code",
   "execution_count": 13,
   "id": "66fb51a8-c143-4144-8711-d61aa3531392",
   "metadata": {},
   "outputs": [],
   "source": [
    "#Powyższa wartość oznacza, że 95% diamentów leży w obszarze do 1,613 karata."
   ]
  },
  {
   "cell_type": "code",
   "execution_count": 15,
   "id": "7d2526a7-c232-4b07-ab4a-a9038b1c01d0",
   "metadata": {},
   "outputs": [],
   "source": [
    "# Obliczona linia regresji w pliku z predykcją ilości karatów do ceny\n",
    "m = 7652.47797544\n",
    "b = -2226.40198816"
   ]
  },
  {
   "cell_type": "code",
   "execution_count": 17,
   "id": "561b5fc3-03dd-45f5-9e01-9b31d0dbb05e",
   "metadata": {},
   "outputs": [
    {
     "name": "stdout",
     "output_type": "stream",
     "text": [
      "1529.618791756018\n"
     ]
    }
   ],
   "source": [
    "# OBLICZANIE PRZEDZIAŁU PRZEWIDYWANIA DLA KARATÓW O WARTOŚCI 2.5 (car=2.5)\n",
    "car = 2.5\n",
    "\n",
    "# Obliczanie błędu standardowego\n",
    "from math import sqrt\n",
    "blad_standardowy = sqrt(sum((p.price - (m * p.carat + b))**2 for p in punkty) / (n-2))\n",
    "\n",
    "print(blad_standardowy)\n"
   ]
  },
  {
   "cell_type": "code",
   "execution_count": 19,
   "id": "d66628c5-1491-4a48-82d9-1e03460b0fce",
   "metadata": {},
   "outputs": [
    {
     "name": "stdout",
     "output_type": "stream",
     "text": [
      "2468.3752688233526\n"
     ]
    }
   ],
   "source": [
    "# Obliczanie marginesu błędu (według wzoru) w celu poznania 95% ufości dla przedziału przewidywania ceny dla 2,5 karatów.\n",
    "margines_bledu = x * blad_standardowy * sqrt(1 + (1/n) + (n * (car - srednia_carat) ** 2) / (n * sum(p.carat ** 2 for p in punkty) - sum(p.carat for p in punkty) **2))\n",
    "\n",
    "print(margines_bledu)"
   ]
  },
  {
   "cell_type": "code",
   "execution_count": 21,
   "id": "a9dd5a5b-5f06-459f-bebe-525521a4f161",
   "metadata": {},
   "outputs": [
    {
     "name": "stdout",
     "output_type": "stream",
     "text": [
      "16904.792950439998\n"
     ]
    }
   ],
   "source": [
    "przewidywana_cena = m * car + b\n",
    "print(przewidywana_cena)"
   ]
  },
  {
   "cell_type": "code",
   "execution_count": 23,
   "id": "5a35fb6d-b5e7-49eb-8851-941781baceff",
   "metadata": {},
   "outputs": [
    {
     "name": "stdout",
     "output_type": "stream",
     "text": [
      "Obszar przewidywania ceny diamentów z 95% ufnością dla ilości 2.5 karatów wynosi pomiędzy 14436.417681616645 a 19373.168219263353\n"
     ]
    }
   ],
   "source": [
    "# Obliczanie 95% ufności przedziału przewidywania dla wagi 2.5 karatów\n",
    "print(\"Obszar przewidywania ceny diamentów z 95% ufnością dla ilości 2.5 karatów wynosi pomiędzy\", przewidywana_cena - margines_bledu, \"a\", przewidywana_cena + margines_bledu) "
   ]
  },
  {
   "cell_type": "code",
   "execution_count": 27,
   "id": "4ac1131f-9025-44a0-9512-86f0bc0137ed",
   "metadata": {},
   "outputs": [],
   "source": [
    "# Wniosek: Na podstawie powyższej analizy można stwierdzić, że diament o wadze 2.5 karatów, \n",
    "# z 95% pewnością będzie znajdował się w przedziale cenowym między 14436.42 a 19373.17.\n",
    "# Powyższa wartość zgadza się w przybliżeniu z wykresem regresji liniowej wykonanym w oddzielnym pliku,\n",
    "# a także średnia wartość przedziałów przewidywania, która wynosi 16904 jest zgodna z linią regresji liniowej."
   ]
  }
 ],
 "metadata": {
  "kernelspec": {
   "display_name": "Python 3 (ipykernel)",
   "language": "python",
   "name": "python3"
  },
  "language_info": {
   "codemirror_mode": {
    "name": "ipython",
    "version": 3
   },
   "file_extension": ".py",
   "mimetype": "text/x-python",
   "name": "python",
   "nbconvert_exporter": "python",
   "pygments_lexer": "ipython3",
   "version": "3.12.4"
  }
 },
 "nbformat": 4,
 "nbformat_minor": 5
}
